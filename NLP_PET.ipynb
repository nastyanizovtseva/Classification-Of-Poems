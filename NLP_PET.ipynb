{
  "nbformat": 4,
  "nbformat_minor": 0,
  "metadata": {
    "colab": {
      "provenance": []
    },
    "kernelspec": {
      "name": "python3",
      "display_name": "Python 3"
    },
    "language_info": {
      "name": "python"
    }
  },
  "cells": [
    {
      "cell_type": "markdown",
      "source": [
        "## Table of content"
      ],
      "metadata": {
        "id": "PeB9xdOsNsml"
      }
    },
    {
      "cell_type": "code",
      "source": [
        "!pip install lxml\n",
        "!pip install requests\n",
        "!pip install beautifulsoup4\n",
        "!pip install pymorphy2"
      ],
      "metadata": {
        "id": "_zNTR59g73_r"
      },
      "execution_count": null,
      "outputs": []
    },
    {
      "cell_type": "code",
      "source": [
        "import requests\n",
        "from bs4 import BeautifulSoup\n",
        "import pandas as pd\n",
        "import numpy as np\n",
        "from google.colab import files\n",
        "\n",
        "import nltk\n",
        "nltk.download('punkt')\n",
        "nltk.download('stopwords')\n",
        "nltk.download('wordnet')\n",
        "from nltk.corpus import stopwords\n",
        "from nltk.stem import WordNetLemmatizer\n",
        "import re\n",
        "import pymorphy2\n",
        "\n",
        "from sklearn.feature_extraction.text import TfidfVectorizer\n",
        "from sklearn.model_selection import train_test_split\n",
        "from sklearn.svm import SVC\n",
        "\n",
        "import gensim\n",
        "import gensim.downloader\n",
        "from gensim.models import Word2Vec,KeyedVectors\n",
        "\n",
        "from sklearn.metrics.pairwise import cosine_similarity\n",
        "\n",
        "from sklearn.manifold import TSNE\n",
        "import matplotlib.pyplot as plt\n",
        "\n",
        "from sklearn.linear_model import LogisticRegression\n",
        "from sklearn.model_selection import train_test_split\n",
        "from sklearn.metrics import accuracy_score"
      ],
      "metadata": {
        "id": "8a0qb3YQNH2U"
      },
      "execution_count": null,
      "outputs": []
    },
    {
      "cell_type": "markdown",
      "source": [
        "## Спарсим стихотворения с сайта: https://rustih.ru/"
      ],
      "metadata": {
        "id": "wvvZQAHtTiXG"
      }
    },
    {
      "cell_type": "markdown",
      "source": [
        "### Создание скрипта скрапинга"
      ],
      "metadata": {
        "id": "r-9eoJaX6rUS"
      }
    },
    {
      "cell_type": "code",
      "execution_count": null,
      "metadata": {
        "id": "U6BtPyDU6lQ0"
      },
      "outputs": [],
      "source": [
        "url = 'https://rustih.ru/'\n",
        "response = requests.get(url)\n",
        "soup = BeautifulSoup(response.text, 'lxml')"
      ]
    },
    {
      "cell_type": "markdown",
      "source": [
        "### Парсинг html разметки, спарсили талицу с сылками"
      ],
      "metadata": {
        "id": "0BQi-ufs91pV"
      }
    },
    {
      "cell_type": "code",
      "source": [
        "tables = soup.find_all('table')\n",
        "\n",
        "# Посмотрим, какие стихи есть на сайте\n",
        "for table in tables:\n",
        "    print(table.text)"
      ],
      "metadata": {
        "id": "CM6MsQVd912L"
      },
      "execution_count": null,
      "outputs": []
    },
    {
      "cell_type": "markdown",
      "source": [
        "### Создадим датафрейм"
      ],
      "metadata": {
        "id": "WtDY8ZxUClvI"
      }
    },
    {
      "cell_type": "code",
      "source": [
        "df = pd.DataFrame(columns=['Название', 'Ссылка', 'Текст'])"
      ],
      "metadata": {
        "id": "YiEtaFeLClC7"
      },
      "execution_count": null,
      "outputs": []
    },
    {
      "cell_type": "markdown",
      "source": [
        "### Перейдем по ссылке на каждого автора, а затем на каждое стихотворение и добавим данные в датафрейм"
      ],
      "metadata": {
        "id": "9T8zIS-zBsVj"
      }
    },
    {
      "cell_type": "code",
      "source": [
        "for table in tables:\n",
        "    # Получаем ссылки на страницы из тегов <a>\n",
        "    links = table.find_all('a')\n",
        "\n",
        "    for link in links:\n",
        "        # Получаем ссылку на страницу, где у нас есть список стихов определенного автора\n",
        "        page_url_author = link.get('href')\n",
        "\n",
        "        # Получаем содержимое страницы по ссылке\n",
        "        page_response_author = requests.get(page_url_author)\n",
        "        page_soup_author = BeautifulSoup(page_response_author.text, 'lxml')\n",
        "\n",
        "        poems_links = page_soup_author.select('div.entry-title a')\n",
        "\n",
        "        for poem_link in poems_links:\n",
        "            poem_url = poem_link.get('href')\n",
        "\n",
        "            poem_response = requests.get(poem_url)\n",
        "            poem_soup = BeautifulSoup(poem_response.text, 'lxml')\n",
        "\n",
        "            # Получаем название стихотворения и проверяем на пустоту\n",
        "            title_element = poem_soup.select_one('h1.entry-title')\n",
        "            title = title_element.text if title_element is not None else ''\n",
        "\n",
        "            # Получаем текст стихотворения\n",
        "            poem_lines = poem_soup.select('div.entry-content p')\n",
        "            poem_text = ''\n",
        "\n",
        "            for line in poem_lines:\n",
        "                # Проверяем, что мы не вышли за пределы содержания стихотворения\n",
        "                prev_sibling = line.find_previous_sibling()\n",
        "                if prev_sibling is not None and prev_sibling.name == 'h2':\n",
        "                    break\n",
        "                poem_text += line.text + '\\n'\n",
        "\n",
        "            df = df.append({'Название': title, 'Ссылка': poem_url, 'Текст': poem_text}, ignore_index=True)"
      ],
      "metadata": {
        "id": "eIYJz3VAFNe9"
      },
      "execution_count": null,
      "outputs": []
    },
    {
      "cell_type": "code",
      "source": [
        "df.sample(n=10)\n",
        "df.shape[0]"
      ],
      "metadata": {
        "id": "8mXQ6yfFGPUw"
      },
      "execution_count": null,
      "outputs": []
    },
    {
      "cell_type": "markdown",
      "source": [
        "### Скачаем датафрейм"
      ],
      "metadata": {
        "id": "IldgfPKsDan3"
      }
    },
    {
      "cell_type": "code",
      "source": [
        "df.to_csv(\"table_poems.csv\", index=False)\n",
        "files.download(\"table_poems.csv\")"
      ],
      "metadata": {
        "id": "zZaqPYVrDhRT"
      },
      "execution_count": null,
      "outputs": []
    },
    {
      "cell_type": "markdown",
      "source": [
        "## Предобработаем данные"
      ],
      "metadata": {
        "id": "Mg_Ffoka9yJ1"
      }
    },
    {
      "cell_type": "markdown",
      "source": [
        "### Импортируем файл"
      ],
      "metadata": {
        "id": "GfvpAVz1O_yz"
      }
    },
    {
      "cell_type": "code",
      "source": [
        "data = pd.read_csv('/content/table_poems.csv', delimiter=',', quotechar='\"', escapechar='\\\\')\n",
        "data.head()"
      ],
      "metadata": {
        "id": "h3jBBp-ul8BD",
        "colab": {
          "base_uri": "https://localhost:8080/",
          "height": 206
        },
        "outputId": "b365e884-7a3f-41da-cf98-1f66e1b96e47"
      },
      "execution_count": null,
      "outputs": [
        {
          "output_type": "execute_result",
          "data": {
            "text/plain": [
              "                                        Название  \\\n",
              "0   Иван Крылов — Свинья под дубом (Басня): Стих   \n",
              "1    Иван Крылов — Мартышка и очки (Басня): Стих   \n",
              "2            Иван Крылов — Волк и Волчонок: Стих   \n",
              "3     Иван Крылов — Волк и журавль (Басня): Стих   \n",
              "4          Иван Крылов — Музыканты (Басня): Стих   \n",
              "\n",
              "                                              Ссылка  \\\n",
              "0  https://rustih.ru/ivan-krylov-svinya-pod-dubom...   \n",
              "1  https://rustih.ru/ivan-krylov-martyshka-i-ochk...   \n",
              "2    https://rustih.ru/ivan-krylov-volk-i-volchonok/   \n",
              "3  https://rustih.ru/ivan-krylov-volk-i-zhuravl-b...   \n",
              "4    https://rustih.ru/ivan-krylov-muzykanty-basnya/   \n",
              "\n",
              "                                               Текст  \n",
              "0  Свинья под Дубом вековым\\nНаелась желудей досы...  \n",
              "1  Мартышка к старости слаба глазами стала;\\nА у ...  \n",
              "2  Волчонка Волк, начав помалу приучать\\nОтцовски...  \n",
              "3  Что волки жадны, всякий знает:\\nВолк, евши, ни...  \n",
              "4  Сосед соседа звал откушать;\\nНо умысел другой ...  "
            ],
            "text/html": [
              "\n",
              "  <div id=\"df-277b3546-0fea-448a-921f-496af2a0ac2c\">\n",
              "    <div class=\"colab-df-container\">\n",
              "      <div>\n",
              "<style scoped>\n",
              "    .dataframe tbody tr th:only-of-type {\n",
              "        vertical-align: middle;\n",
              "    }\n",
              "\n",
              "    .dataframe tbody tr th {\n",
              "        vertical-align: top;\n",
              "    }\n",
              "\n",
              "    .dataframe thead th {\n",
              "        text-align: right;\n",
              "    }\n",
              "</style>\n",
              "<table border=\"1\" class=\"dataframe\">\n",
              "  <thead>\n",
              "    <tr style=\"text-align: right;\">\n",
              "      <th></th>\n",
              "      <th>Название</th>\n",
              "      <th>Ссылка</th>\n",
              "      <th>Текст</th>\n",
              "    </tr>\n",
              "  </thead>\n",
              "  <tbody>\n",
              "    <tr>\n",
              "      <th>0</th>\n",
              "      <td>Иван Крылов — Свинья под дубом (Басня): Стих</td>\n",
              "      <td>https://rustih.ru/ivan-krylov-svinya-pod-dubom...</td>\n",
              "      <td>Свинья под Дубом вековым\\nНаелась желудей досы...</td>\n",
              "    </tr>\n",
              "    <tr>\n",
              "      <th>1</th>\n",
              "      <td>Иван Крылов — Мартышка и очки (Басня): Стих</td>\n",
              "      <td>https://rustih.ru/ivan-krylov-martyshka-i-ochk...</td>\n",
              "      <td>Мартышка к старости слаба глазами стала;\\nА у ...</td>\n",
              "    </tr>\n",
              "    <tr>\n",
              "      <th>2</th>\n",
              "      <td>Иван Крылов — Волк и Волчонок: Стих</td>\n",
              "      <td>https://rustih.ru/ivan-krylov-volk-i-volchonok/</td>\n",
              "      <td>Волчонка Волк, начав помалу приучать\\nОтцовски...</td>\n",
              "    </tr>\n",
              "    <tr>\n",
              "      <th>3</th>\n",
              "      <td>Иван Крылов — Волк и журавль (Басня): Стих</td>\n",
              "      <td>https://rustih.ru/ivan-krylov-volk-i-zhuravl-b...</td>\n",
              "      <td>Что волки жадны, всякий знает:\\nВолк, евши, ни...</td>\n",
              "    </tr>\n",
              "    <tr>\n",
              "      <th>4</th>\n",
              "      <td>Иван Крылов — Музыканты (Басня): Стих</td>\n",
              "      <td>https://rustih.ru/ivan-krylov-muzykanty-basnya/</td>\n",
              "      <td>Сосед соседа звал откушать;\\nНо умысел другой ...</td>\n",
              "    </tr>\n",
              "  </tbody>\n",
              "</table>\n",
              "</div>\n",
              "      <button class=\"colab-df-convert\" onclick=\"convertToInteractive('df-277b3546-0fea-448a-921f-496af2a0ac2c')\"\n",
              "              title=\"Convert this dataframe to an interactive table.\"\n",
              "              style=\"display:none;\">\n",
              "        \n",
              "  <svg xmlns=\"http://www.w3.org/2000/svg\" height=\"24px\"viewBox=\"0 0 24 24\"\n",
              "       width=\"24px\">\n",
              "    <path d=\"M0 0h24v24H0V0z\" fill=\"none\"/>\n",
              "    <path d=\"M18.56 5.44l.94 2.06.94-2.06 2.06-.94-2.06-.94-.94-2.06-.94 2.06-2.06.94zm-11 1L8.5 8.5l.94-2.06 2.06-.94-2.06-.94L8.5 2.5l-.94 2.06-2.06.94zm10 10l.94 2.06.94-2.06 2.06-.94-2.06-.94-.94-2.06-.94 2.06-2.06.94z\"/><path d=\"M17.41 7.96l-1.37-1.37c-.4-.4-.92-.59-1.43-.59-.52 0-1.04.2-1.43.59L10.3 9.45l-7.72 7.72c-.78.78-.78 2.05 0 2.83L4 21.41c.39.39.9.59 1.41.59.51 0 1.02-.2 1.41-.59l7.78-7.78 2.81-2.81c.8-.78.8-2.07 0-2.86zM5.41 20L4 18.59l7.72-7.72 1.47 1.35L5.41 20z\"/>\n",
              "  </svg>\n",
              "      </button>\n",
              "      \n",
              "  <style>\n",
              "    .colab-df-container {\n",
              "      display:flex;\n",
              "      flex-wrap:wrap;\n",
              "      gap: 12px;\n",
              "    }\n",
              "\n",
              "    .colab-df-convert {\n",
              "      background-color: #E8F0FE;\n",
              "      border: none;\n",
              "      border-radius: 50%;\n",
              "      cursor: pointer;\n",
              "      display: none;\n",
              "      fill: #1967D2;\n",
              "      height: 32px;\n",
              "      padding: 0 0 0 0;\n",
              "      width: 32px;\n",
              "    }\n",
              "\n",
              "    .colab-df-convert:hover {\n",
              "      background-color: #E2EBFA;\n",
              "      box-shadow: 0px 1px 2px rgba(60, 64, 67, 0.3), 0px 1px 3px 1px rgba(60, 64, 67, 0.15);\n",
              "      fill: #174EA6;\n",
              "    }\n",
              "\n",
              "    [theme=dark] .colab-df-convert {\n",
              "      background-color: #3B4455;\n",
              "      fill: #D2E3FC;\n",
              "    }\n",
              "\n",
              "    [theme=dark] .colab-df-convert:hover {\n",
              "      background-color: #434B5C;\n",
              "      box-shadow: 0px 1px 3px 1px rgba(0, 0, 0, 0.15);\n",
              "      filter: drop-shadow(0px 1px 2px rgba(0, 0, 0, 0.3));\n",
              "      fill: #FFFFFF;\n",
              "    }\n",
              "  </style>\n",
              "\n",
              "      <script>\n",
              "        const buttonEl =\n",
              "          document.querySelector('#df-277b3546-0fea-448a-921f-496af2a0ac2c button.colab-df-convert');\n",
              "        buttonEl.style.display =\n",
              "          google.colab.kernel.accessAllowed ? 'block' : 'none';\n",
              "\n",
              "        async function convertToInteractive(key) {\n",
              "          const element = document.querySelector('#df-277b3546-0fea-448a-921f-496af2a0ac2c');\n",
              "          const dataTable =\n",
              "            await google.colab.kernel.invokeFunction('convertToInteractive',\n",
              "                                                     [key], {});\n",
              "          if (!dataTable) return;\n",
              "\n",
              "          const docLinkHtml = 'Like what you see? Visit the ' +\n",
              "            '<a target=\"_blank\" href=https://colab.research.google.com/notebooks/data_table.ipynb>data table notebook</a>'\n",
              "            + ' to learn more about interactive tables.';\n",
              "          element.innerHTML = '';\n",
              "          dataTable['output_type'] = 'display_data';\n",
              "          await google.colab.output.renderOutput(dataTable, element);\n",
              "          const docLink = document.createElement('div');\n",
              "          docLink.innerHTML = docLinkHtml;\n",
              "          element.appendChild(docLink);\n",
              "        }\n",
              "      </script>\n",
              "    </div>\n",
              "  </div>\n",
              "  "
            ]
          },
          "metadata": {},
          "execution_count": 44
        }
      ]
    },
    {
      "cell_type": "markdown",
      "source": [
        "### Посмотрим пропуски в наших данных и удалим их"
      ],
      "metadata": {
        "id": "zBBfm01tpq3P"
      }
    },
    {
      "cell_type": "code",
      "source": [
        "df1 = data[data.isna().any(axis=1)]\n",
        "df1.head()\n",
        "data.dropna(inplace=True)"
      ],
      "metadata": {
        "id": "GrfBFBqDqj-R"
      },
      "execution_count": null,
      "outputs": []
    },
    {
      "cell_type": "markdown",
      "source": [
        "### Добавим колонки 'author' & 'title'"
      ],
      "metadata": {
        "id": "soMic3Q3sEhY"
      }
    },
    {
      "cell_type": "code",
      "source": [
        "authors = []\n",
        "titles = []\n",
        "\n",
        "for index, row in data.iterrows():\n",
        "\n",
        "    book = row['Название'].split('—')\n",
        "    if len(book) == 2:\n",
        "        author = book[0]\n",
        "        title = book[1]\n",
        "\n",
        "        if ': Стих' in title:\n",
        "            title = title.replace(': Стих', '')\n",
        "        if ' (Басня)' in title:\n",
        "            title = title.replace(' (Басня)', '')\n",
        "        if title[0] == ' ':\n",
        "          title = title[:0] + title[1:]\n",
        "        if title[len(title) - 1] == ' ':\n",
        "          title = title[:len(title) - 1] + title[len(title):]\n",
        "\n",
        "        if author[0] == ' ':\n",
        "          author = author[:0] + author[1:]\n",
        "        if author[len(author) - 1] == ' ':\n",
        "          author = author[:len(author) - 1] + author[len(author):]\n",
        "    elif len(book) == 3:\n",
        "      author = book[0]\n",
        "      title = book[1] + book[2]\n",
        "\n",
        "      if title[0] == ' ':\n",
        "          title = title[:0] + title[1:]\n",
        "      if title[len(title) - 1] == ' ':\n",
        "        title = title[:len(title) - 1] + title[len(title):]\n",
        "\n",
        "      if author[0] == ' ':\n",
        "        author = author[:0] + author[1:]\n",
        "      if author[len(author) - 1] == ' ':\n",
        "        author = author[:len(author) - 1] + author[len(author):]\n",
        "    else:\n",
        "        author = 'Unknown'\n",
        "        title = book[0]\n",
        "\n",
        "    authors.append(author)\n",
        "    titles.append(title)\n",
        "\n",
        "data['author'] = authors\n",
        "data['title'] = titles\n",
        "\n",
        "# Посмотрим статистику по авторам\n",
        "data['author'].value_counts()"
      ],
      "metadata": {
        "id": "KQndgSUMqpAF",
        "colab": {
          "base_uri": "https://localhost:8080/"
        },
        "outputId": "3437b290-2b76-4dde-ecfc-3e0c741bb3f3"
      },
      "execution_count": null,
      "outputs": [
        {
          "output_type": "execute_result",
          "data": {
            "text/plain": [
              "Александр Пушкин         163\n",
              "Михаил Лермонтов         134\n",
              "Владимир Высоцкий        124\n",
              "Николай Некрасов         123\n",
              "Федор Тютчев             123\n",
              "Владимир Маяковский      123\n",
              "Сергей Есенин            122\n",
              "Анна Ахматова            117\n",
              "Борис Пастернак          115\n",
              "Александр Блок           113\n",
              "Афанасий Фет             111\n",
              "Иван Бунин               107\n",
              "Марина Цветаева          107\n",
              "Иосиф Бродский           106\n",
              "Самуил Маршак            106\n",
              "Эдуард Асадов            105\n",
              "Роберт Рождественский    104\n",
              "Николай Гумилев          104\n",
              "Евгений Евтушенко        103\n",
              "Иван Крылов              102\n",
              "Сергей Михалков          102\n",
              "Константин Бальмонт      101\n",
              "Юлия Друнина             101\n",
              "Агния Барто              101\n",
              "Арсений Тарковский       100\n",
              "Шекспир                  100\n",
              "Омар Хайям               100\n",
              "Вера Полозкова            99\n",
              "Валерий Брюсов            99\n",
              "Гёте                      99\n",
              "Дмитрий Быков             97\n",
              "Александр Твардовский     80\n",
              "Корней Чуковский          42\n",
              "Николай Гумилёв            1\n",
              "Name: author, dtype: int64"
            ]
          },
          "metadata": {},
          "execution_count": 46
        }
      ]
    },
    {
      "cell_type": "code",
      "source": [
        "# Удалим запись с Николаем Гумилевым, т.к. дф содержит всего 1 стих\n",
        "data = data.drop(data[data['author'] == 'Николай Гумилёв'].index)"
      ],
      "metadata": {
        "id": "o9HETYdZJ7Hd"
      },
      "execution_count": null,
      "outputs": []
    },
    {
      "cell_type": "markdown",
      "source": [
        "### Непосредственно предобработка\n",
        "\n",
        "*   Загружаем стоп-слова для лемматизации слов из библиотеки NLTK.\n",
        "*   Приведем текст к нижнему регистру.\n",
        "*   Удалим стоп-слова из текста.\n",
        "*   Приведем каждое слово к нормальной форме (лемматизация).\n",
        "*   Удалим знаки припенания.\n",
        "*   Запишем изменения в новый столбец 'text'."
      ],
      "metadata": {
        "id": "En7pHUb4_Hzu"
      }
    },
    {
      "cell_type": "code",
      "source": [
        "lemmatizer = WordNetLemmatizer()\n",
        "\n",
        "stop_words = set(stopwords.words('russian'))\n",
        "\n",
        "for index, row in data.iterrows():\n",
        "    text = row['Текст']\n",
        "\n",
        "    # Приведем текст к нижнему регистру\n",
        "    text = text.lower()\n",
        "\n",
        "    # Удалим пунктуацию\n",
        "    text = re.sub(r'[^\\w\\s]', '', text)\n",
        "\n",
        "    # Разделим текст на слова\n",
        "    words = nltk.word_tokenize(text)\n",
        "\n",
        "    # Удалим стоп-слова\n",
        "    words = [word for word in words if word not in stop_words]\n",
        "\n",
        "    # Приведем слова к нормальной форме\n",
        "    words = [lemmatizer.lemmatize(word) for word in words]\n",
        "\n",
        "    # Соединим слова обратно в строку\n",
        "    processed_text = ' '.join(words)\n",
        "\n",
        "    data.at[index, 'text'] = processed_text\n",
        "\n",
        "data['text'] = data['text'].str.replace('_', '')"
      ],
      "metadata": {
        "id": "cfl1bWwL-Zzp"
      },
      "execution_count": null,
      "outputs": []
    },
    {
      "cell_type": "markdown",
      "source": [
        "### Добавим дополнительные признки"
      ],
      "metadata": {
        "id": "-cPNJ9NwS0gm"
      }
    },
    {
      "cell_type": "code",
      "source": [
        "# Длина в символах\n",
        "data['number_in_characters'] = data['text'].apply(lambda x: len(x))\n",
        "\n",
        "# Длина в словах\n",
        "data['length_in_words'] = data['text'].apply(lambda x: len(x.split()))\n",
        "\n",
        "# Количесвто уникальных слов\n",
        "data['number_of_unique_words'] = data['text'].apply(lambda x: len(set(x.split())))\n",
        "\n",
        "# Средняя длина слова\n",
        "data['average_word_length'] = data['text'].apply(lambda x: sum(len(word) for word in x.split()) / len(x.split()))"
      ],
      "metadata": {
        "id": "gBISWIOnS5Wu"
      },
      "execution_count": null,
      "outputs": []
    },
    {
      "cell_type": "code",
      "source": [
        "data = data.drop(data[data['number_in_characters'] <= 40].index)"
      ],
      "metadata": {
        "id": "dNB9CMmCTEsp"
      },
      "execution_count": null,
      "outputs": []
    },
    {
      "cell_type": "markdown",
      "source": [
        "### Удалим лишние столбцы"
      ],
      "metadata": {
        "id": "UIvtbCImSln-"
      }
    },
    {
      "cell_type": "code",
      "source": [
        "data = data.drop(['Название', 'Ссылка', 'Текст'], axis=1)\n",
        "data.head()"
      ],
      "metadata": {
        "colab": {
          "base_uri": "https://localhost:8080/",
          "height": 337
        },
        "id": "1hCY9W5yMZRU",
        "outputId": "715ab60e-297b-42cd-84e8-29a8e9174ca4"
      },
      "execution_count": null,
      "outputs": [
        {
          "output_type": "execute_result",
          "data": {
            "text/plain": [
              "        author             title  \\\n",
              "0  Иван Крылов  Свинья под дубом   \n",
              "1  Иван Крылов   Мартышка и очки   \n",
              "2  Иван Крылов   Волк и Волчонок   \n",
              "3  Иван Крылов    Волк и журавль   \n",
              "4  Иван Крылов         Музыканты   \n",
              "\n",
              "                                                text  number_in_characters  \\\n",
              "0  свинья дубом вековым наелась желудей досыта от...                   458   \n",
              "1  мартышка старости слаба глазами стала людей сл...                   451   \n",
              "2  волчонка волк начав помалу приучать отцовским ...                   736   \n",
              "3  волки жадны всякий знает волк евши костей разб...                   470   \n",
              "4  сосед соседа звал откушать умысел хозяин музык...                   345   \n",
              "\n",
              "   length_in_words  number_of_unique_words  average_word_length  \n",
              "0               67                      62             5.835821  \n",
              "1               66                      60             5.833333  \n",
              "2              106                      94             5.952830  \n",
              "3               69                      62             5.826087  \n",
              "4               48                      46             6.187500  "
            ],
            "text/html": [
              "\n",
              "  <div id=\"df-6c488d46-c075-4d3f-be55-9cdff15d6462\">\n",
              "    <div class=\"colab-df-container\">\n",
              "      <div>\n",
              "<style scoped>\n",
              "    .dataframe tbody tr th:only-of-type {\n",
              "        vertical-align: middle;\n",
              "    }\n",
              "\n",
              "    .dataframe tbody tr th {\n",
              "        vertical-align: top;\n",
              "    }\n",
              "\n",
              "    .dataframe thead th {\n",
              "        text-align: right;\n",
              "    }\n",
              "</style>\n",
              "<table border=\"1\" class=\"dataframe\">\n",
              "  <thead>\n",
              "    <tr style=\"text-align: right;\">\n",
              "      <th></th>\n",
              "      <th>author</th>\n",
              "      <th>title</th>\n",
              "      <th>text</th>\n",
              "      <th>number_in_characters</th>\n",
              "      <th>length_in_words</th>\n",
              "      <th>number_of_unique_words</th>\n",
              "      <th>average_word_length</th>\n",
              "    </tr>\n",
              "  </thead>\n",
              "  <tbody>\n",
              "    <tr>\n",
              "      <th>0</th>\n",
              "      <td>Иван Крылов</td>\n",
              "      <td>Свинья под дубом</td>\n",
              "      <td>свинья дубом вековым наелась желудей досыта от...</td>\n",
              "      <td>458</td>\n",
              "      <td>67</td>\n",
              "      <td>62</td>\n",
              "      <td>5.835821</td>\n",
              "    </tr>\n",
              "    <tr>\n",
              "      <th>1</th>\n",
              "      <td>Иван Крылов</td>\n",
              "      <td>Мартышка и очки</td>\n",
              "      <td>мартышка старости слаба глазами стала людей сл...</td>\n",
              "      <td>451</td>\n",
              "      <td>66</td>\n",
              "      <td>60</td>\n",
              "      <td>5.833333</td>\n",
              "    </tr>\n",
              "    <tr>\n",
              "      <th>2</th>\n",
              "      <td>Иван Крылов</td>\n",
              "      <td>Волк и Волчонок</td>\n",
              "      <td>волчонка волк начав помалу приучать отцовским ...</td>\n",
              "      <td>736</td>\n",
              "      <td>106</td>\n",
              "      <td>94</td>\n",
              "      <td>5.952830</td>\n",
              "    </tr>\n",
              "    <tr>\n",
              "      <th>3</th>\n",
              "      <td>Иван Крылов</td>\n",
              "      <td>Волк и журавль</td>\n",
              "      <td>волки жадны всякий знает волк евши костей разб...</td>\n",
              "      <td>470</td>\n",
              "      <td>69</td>\n",
              "      <td>62</td>\n",
              "      <td>5.826087</td>\n",
              "    </tr>\n",
              "    <tr>\n",
              "      <th>4</th>\n",
              "      <td>Иван Крылов</td>\n",
              "      <td>Музыканты</td>\n",
              "      <td>сосед соседа звал откушать умысел хозяин музык...</td>\n",
              "      <td>345</td>\n",
              "      <td>48</td>\n",
              "      <td>46</td>\n",
              "      <td>6.187500</td>\n",
              "    </tr>\n",
              "  </tbody>\n",
              "</table>\n",
              "</div>\n",
              "      <button class=\"colab-df-convert\" onclick=\"convertToInteractive('df-6c488d46-c075-4d3f-be55-9cdff15d6462')\"\n",
              "              title=\"Convert this dataframe to an interactive table.\"\n",
              "              style=\"display:none;\">\n",
              "        \n",
              "  <svg xmlns=\"http://www.w3.org/2000/svg\" height=\"24px\"viewBox=\"0 0 24 24\"\n",
              "       width=\"24px\">\n",
              "    <path d=\"M0 0h24v24H0V0z\" fill=\"none\"/>\n",
              "    <path d=\"M18.56 5.44l.94 2.06.94-2.06 2.06-.94-2.06-.94-.94-2.06-.94 2.06-2.06.94zm-11 1L8.5 8.5l.94-2.06 2.06-.94-2.06-.94L8.5 2.5l-.94 2.06-2.06.94zm10 10l.94 2.06.94-2.06 2.06-.94-2.06-.94-.94-2.06-.94 2.06-2.06.94z\"/><path d=\"M17.41 7.96l-1.37-1.37c-.4-.4-.92-.59-1.43-.59-.52 0-1.04.2-1.43.59L10.3 9.45l-7.72 7.72c-.78.78-.78 2.05 0 2.83L4 21.41c.39.39.9.59 1.41.59.51 0 1.02-.2 1.41-.59l7.78-7.78 2.81-2.81c.8-.78.8-2.07 0-2.86zM5.41 20L4 18.59l7.72-7.72 1.47 1.35L5.41 20z\"/>\n",
              "  </svg>\n",
              "      </button>\n",
              "      \n",
              "  <style>\n",
              "    .colab-df-container {\n",
              "      display:flex;\n",
              "      flex-wrap:wrap;\n",
              "      gap: 12px;\n",
              "    }\n",
              "\n",
              "    .colab-df-convert {\n",
              "      background-color: #E8F0FE;\n",
              "      border: none;\n",
              "      border-radius: 50%;\n",
              "      cursor: pointer;\n",
              "      display: none;\n",
              "      fill: #1967D2;\n",
              "      height: 32px;\n",
              "      padding: 0 0 0 0;\n",
              "      width: 32px;\n",
              "    }\n",
              "\n",
              "    .colab-df-convert:hover {\n",
              "      background-color: #E2EBFA;\n",
              "      box-shadow: 0px 1px 2px rgba(60, 64, 67, 0.3), 0px 1px 3px 1px rgba(60, 64, 67, 0.15);\n",
              "      fill: #174EA6;\n",
              "    }\n",
              "\n",
              "    [theme=dark] .colab-df-convert {\n",
              "      background-color: #3B4455;\n",
              "      fill: #D2E3FC;\n",
              "    }\n",
              "\n",
              "    [theme=dark] .colab-df-convert:hover {\n",
              "      background-color: #434B5C;\n",
              "      box-shadow: 0px 1px 3px 1px rgba(0, 0, 0, 0.15);\n",
              "      filter: drop-shadow(0px 1px 2px rgba(0, 0, 0, 0.3));\n",
              "      fill: #FFFFFF;\n",
              "    }\n",
              "  </style>\n",
              "\n",
              "      <script>\n",
              "        const buttonEl =\n",
              "          document.querySelector('#df-6c488d46-c075-4d3f-be55-9cdff15d6462 button.colab-df-convert');\n",
              "        buttonEl.style.display =\n",
              "          google.colab.kernel.accessAllowed ? 'block' : 'none';\n",
              "\n",
              "        async function convertToInteractive(key) {\n",
              "          const element = document.querySelector('#df-6c488d46-c075-4d3f-be55-9cdff15d6462');\n",
              "          const dataTable =\n",
              "            await google.colab.kernel.invokeFunction('convertToInteractive',\n",
              "                                                     [key], {});\n",
              "          if (!dataTable) return;\n",
              "\n",
              "          const docLinkHtml = 'Like what you see? Visit the ' +\n",
              "            '<a target=\"_blank\" href=https://colab.research.google.com/notebooks/data_table.ipynb>data table notebook</a>'\n",
              "            + ' to learn more about interactive tables.';\n",
              "          element.innerHTML = '';\n",
              "          dataTable['output_type'] = 'display_data';\n",
              "          await google.colab.output.renderOutput(dataTable, element);\n",
              "          const docLink = document.createElement('div');\n",
              "          docLink.innerHTML = docLinkHtml;\n",
              "          element.appendChild(docLink);\n",
              "        }\n",
              "      </script>\n",
              "    </div>\n",
              "  </div>\n",
              "  "
            ]
          },
          "metadata": {},
          "execution_count": 53
        }
      ]
    },
    {
      "cell_type": "markdown",
      "source": [
        "### Выгрузим данные"
      ],
      "metadata": {
        "id": "dsviXAXGYd9n"
      }
    },
    {
      "cell_type": "code",
      "source": [
        "data.to_csv(\"table_poems02.csv\", index=False)\n",
        "files.download(\"table_poems02.csv\")"
      ],
      "metadata": {
        "colab": {
          "base_uri": "https://localhost:8080/",
          "height": 17
        },
        "id": "5enlvxlkW4__",
        "outputId": "a80e1481-0785-47d2-88b6-750edfb6a6e8"
      },
      "execution_count": null,
      "outputs": [
        {
          "output_type": "display_data",
          "data": {
            "text/plain": [
              "<IPython.core.display.Javascript object>"
            ],
            "application/javascript": [
              "\n",
              "    async function download(id, filename, size) {\n",
              "      if (!google.colab.kernel.accessAllowed) {\n",
              "        return;\n",
              "      }\n",
              "      const div = document.createElement('div');\n",
              "      const label = document.createElement('label');\n",
              "      label.textContent = `Downloading \"${filename}\": `;\n",
              "      div.appendChild(label);\n",
              "      const progress = document.createElement('progress');\n",
              "      progress.max = size;\n",
              "      div.appendChild(progress);\n",
              "      document.body.appendChild(div);\n",
              "\n",
              "      const buffers = [];\n",
              "      let downloaded = 0;\n",
              "\n",
              "      const channel = await google.colab.kernel.comms.open(id);\n",
              "      // Send a message to notify the kernel that we're ready.\n",
              "      channel.send({})\n",
              "\n",
              "      for await (const message of channel.messages) {\n",
              "        // Send a message to notify the kernel that we're ready.\n",
              "        channel.send({})\n",
              "        if (message.buffers) {\n",
              "          for (const buffer of message.buffers) {\n",
              "            buffers.push(buffer);\n",
              "            downloaded += buffer.byteLength;\n",
              "            progress.value = downloaded;\n",
              "          }\n",
              "        }\n",
              "      }\n",
              "      const blob = new Blob(buffers, {type: 'application/binary'});\n",
              "      const a = document.createElement('a');\n",
              "      a.href = window.URL.createObjectURL(blob);\n",
              "      a.download = filename;\n",
              "      div.appendChild(a);\n",
              "      a.click();\n",
              "      div.remove();\n",
              "    }\n",
              "  "
            ]
          },
          "metadata": {}
        },
        {
          "output_type": "display_data",
          "data": {
            "text/plain": [
              "<IPython.core.display.Javascript object>"
            ],
            "application/javascript": [
              "download(\"download_3d464274-ebe2-4507-9080-be059772ae10\", \"table_poems02.csv\", 5372847)"
            ]
          },
          "metadata": {}
        }
      ]
    },
    {
      "cell_type": "markdown",
      "source": [
        "### Откоем файлик"
      ],
      "metadata": {
        "id": "yBpGUmN9JE8e"
      }
    },
    {
      "cell_type": "code",
      "source": [
        "df = pd.read_csv('/content/table_poems02.csv', delimiter=',', quotechar='\"', escapechar='\\\\')\n",
        "df.head()"
      ],
      "metadata": {
        "colab": {
          "base_uri": "https://localhost:8080/",
          "height": 337
        },
        "id": "IJzQvnjqJECU",
        "outputId": "cb1047a0-ab23-4f11-e4a1-c38401d42975"
      },
      "execution_count": null,
      "outputs": [
        {
          "output_type": "execute_result",
          "data": {
            "text/plain": [
              "        author             title  \\\n",
              "0  Иван Крылов  Свинья под дубом   \n",
              "1  Иван Крылов   Мартышка и очки   \n",
              "2  Иван Крылов   Волк и Волчонок   \n",
              "3  Иван Крылов    Волк и журавль   \n",
              "4  Иван Крылов         Музыканты   \n",
              "\n",
              "                                                text  number_in_characters  \\\n",
              "0  свинья дубом вековым наелась желудей досыта от...                   458   \n",
              "1  мартышка старости слаба глазами стала людей сл...                   451   \n",
              "2  волчонка волк начав помалу приучать отцовским ...                   736   \n",
              "3  волки жадны всякий знает волк евши костей разб...                   470   \n",
              "4  сосед соседа звал откушать умысел хозяин музык...                   345   \n",
              "\n",
              "   length_in_words  number_of_unique_words  average_word_length  \n",
              "0               67                      62             5.835821  \n",
              "1               66                      60             5.833333  \n",
              "2              106                      94             5.952830  \n",
              "3               69                      62             5.826087  \n",
              "4               48                      46             6.187500  "
            ],
            "text/html": [
              "\n",
              "  <div id=\"df-df5a0109-dffe-4532-8577-2c60fa8d93f8\">\n",
              "    <div class=\"colab-df-container\">\n",
              "      <div>\n",
              "<style scoped>\n",
              "    .dataframe tbody tr th:only-of-type {\n",
              "        vertical-align: middle;\n",
              "    }\n",
              "\n",
              "    .dataframe tbody tr th {\n",
              "        vertical-align: top;\n",
              "    }\n",
              "\n",
              "    .dataframe thead th {\n",
              "        text-align: right;\n",
              "    }\n",
              "</style>\n",
              "<table border=\"1\" class=\"dataframe\">\n",
              "  <thead>\n",
              "    <tr style=\"text-align: right;\">\n",
              "      <th></th>\n",
              "      <th>author</th>\n",
              "      <th>title</th>\n",
              "      <th>text</th>\n",
              "      <th>number_in_characters</th>\n",
              "      <th>length_in_words</th>\n",
              "      <th>number_of_unique_words</th>\n",
              "      <th>average_word_length</th>\n",
              "    </tr>\n",
              "  </thead>\n",
              "  <tbody>\n",
              "    <tr>\n",
              "      <th>0</th>\n",
              "      <td>Иван Крылов</td>\n",
              "      <td>Свинья под дубом</td>\n",
              "      <td>свинья дубом вековым наелась желудей досыта от...</td>\n",
              "      <td>458</td>\n",
              "      <td>67</td>\n",
              "      <td>62</td>\n",
              "      <td>5.835821</td>\n",
              "    </tr>\n",
              "    <tr>\n",
              "      <th>1</th>\n",
              "      <td>Иван Крылов</td>\n",
              "      <td>Мартышка и очки</td>\n",
              "      <td>мартышка старости слаба глазами стала людей сл...</td>\n",
              "      <td>451</td>\n",
              "      <td>66</td>\n",
              "      <td>60</td>\n",
              "      <td>5.833333</td>\n",
              "    </tr>\n",
              "    <tr>\n",
              "      <th>2</th>\n",
              "      <td>Иван Крылов</td>\n",
              "      <td>Волк и Волчонок</td>\n",
              "      <td>волчонка волк начав помалу приучать отцовским ...</td>\n",
              "      <td>736</td>\n",
              "      <td>106</td>\n",
              "      <td>94</td>\n",
              "      <td>5.952830</td>\n",
              "    </tr>\n",
              "    <tr>\n",
              "      <th>3</th>\n",
              "      <td>Иван Крылов</td>\n",
              "      <td>Волк и журавль</td>\n",
              "      <td>волки жадны всякий знает волк евши костей разб...</td>\n",
              "      <td>470</td>\n",
              "      <td>69</td>\n",
              "      <td>62</td>\n",
              "      <td>5.826087</td>\n",
              "    </tr>\n",
              "    <tr>\n",
              "      <th>4</th>\n",
              "      <td>Иван Крылов</td>\n",
              "      <td>Музыканты</td>\n",
              "      <td>сосед соседа звал откушать умысел хозяин музык...</td>\n",
              "      <td>345</td>\n",
              "      <td>48</td>\n",
              "      <td>46</td>\n",
              "      <td>6.187500</td>\n",
              "    </tr>\n",
              "  </tbody>\n",
              "</table>\n",
              "</div>\n",
              "      <button class=\"colab-df-convert\" onclick=\"convertToInteractive('df-df5a0109-dffe-4532-8577-2c60fa8d93f8')\"\n",
              "              title=\"Convert this dataframe to an interactive table.\"\n",
              "              style=\"display:none;\">\n",
              "        \n",
              "  <svg xmlns=\"http://www.w3.org/2000/svg\" height=\"24px\"viewBox=\"0 0 24 24\"\n",
              "       width=\"24px\">\n",
              "    <path d=\"M0 0h24v24H0V0z\" fill=\"none\"/>\n",
              "    <path d=\"M18.56 5.44l.94 2.06.94-2.06 2.06-.94-2.06-.94-.94-2.06-.94 2.06-2.06.94zm-11 1L8.5 8.5l.94-2.06 2.06-.94-2.06-.94L8.5 2.5l-.94 2.06-2.06.94zm10 10l.94 2.06.94-2.06 2.06-.94-2.06-.94-.94-2.06-.94 2.06-2.06.94z\"/><path d=\"M17.41 7.96l-1.37-1.37c-.4-.4-.92-.59-1.43-.59-.52 0-1.04.2-1.43.59L10.3 9.45l-7.72 7.72c-.78.78-.78 2.05 0 2.83L4 21.41c.39.39.9.59 1.41.59.51 0 1.02-.2 1.41-.59l7.78-7.78 2.81-2.81c.8-.78.8-2.07 0-2.86zM5.41 20L4 18.59l7.72-7.72 1.47 1.35L5.41 20z\"/>\n",
              "  </svg>\n",
              "      </button>\n",
              "      \n",
              "  <style>\n",
              "    .colab-df-container {\n",
              "      display:flex;\n",
              "      flex-wrap:wrap;\n",
              "      gap: 12px;\n",
              "    }\n",
              "\n",
              "    .colab-df-convert {\n",
              "      background-color: #E8F0FE;\n",
              "      border: none;\n",
              "      border-radius: 50%;\n",
              "      cursor: pointer;\n",
              "      display: none;\n",
              "      fill: #1967D2;\n",
              "      height: 32px;\n",
              "      padding: 0 0 0 0;\n",
              "      width: 32px;\n",
              "    }\n",
              "\n",
              "    .colab-df-convert:hover {\n",
              "      background-color: #E2EBFA;\n",
              "      box-shadow: 0px 1px 2px rgba(60, 64, 67, 0.3), 0px 1px 3px 1px rgba(60, 64, 67, 0.15);\n",
              "      fill: #174EA6;\n",
              "    }\n",
              "\n",
              "    [theme=dark] .colab-df-convert {\n",
              "      background-color: #3B4455;\n",
              "      fill: #D2E3FC;\n",
              "    }\n",
              "\n",
              "    [theme=dark] .colab-df-convert:hover {\n",
              "      background-color: #434B5C;\n",
              "      box-shadow: 0px 1px 3px 1px rgba(0, 0, 0, 0.15);\n",
              "      filter: drop-shadow(0px 1px 2px rgba(0, 0, 0, 0.3));\n",
              "      fill: #FFFFFF;\n",
              "    }\n",
              "  </style>\n",
              "\n",
              "      <script>\n",
              "        const buttonEl =\n",
              "          document.querySelector('#df-df5a0109-dffe-4532-8577-2c60fa8d93f8 button.colab-df-convert');\n",
              "        buttonEl.style.display =\n",
              "          google.colab.kernel.accessAllowed ? 'block' : 'none';\n",
              "\n",
              "        async function convertToInteractive(key) {\n",
              "          const element = document.querySelector('#df-df5a0109-dffe-4532-8577-2c60fa8d93f8');\n",
              "          const dataTable =\n",
              "            await google.colab.kernel.invokeFunction('convertToInteractive',\n",
              "                                                     [key], {});\n",
              "          if (!dataTable) return;\n",
              "\n",
              "          const docLinkHtml = 'Like what you see? Visit the ' +\n",
              "            '<a target=\"_blank\" href=https://colab.research.google.com/notebooks/data_table.ipynb>data table notebook</a>'\n",
              "            + ' to learn more about interactive tables.';\n",
              "          element.innerHTML = '';\n",
              "          dataTable['output_type'] = 'display_data';\n",
              "          await google.colab.output.renderOutput(dataTable, element);\n",
              "          const docLink = document.createElement('div');\n",
              "          docLink.innerHTML = docLinkHtml;\n",
              "          element.appendChild(docLink);\n",
              "        }\n",
              "      </script>\n",
              "    </div>\n",
              "  </div>\n",
              "  "
            ]
          },
          "metadata": {},
          "execution_count": 6
        }
      ]
    },
    {
      "cell_type": "code",
      "source": [
        "df['author_id'] = pd.factorize(df['author'])[0]\n",
        "idx = df.columns.get_loc('author_id')\n",
        "df = df.reindex(columns=['author_id'] + list(df.columns[:idx]) + list(df.columns[idx+1:]))"
      ],
      "metadata": {
        "id": "XVWhu1MpKEzl"
      },
      "execution_count": null,
      "outputs": []
    },
    {
      "cell_type": "code",
      "source": [
        "df['author_id'].value_counts()"
      ],
      "metadata": {
        "colab": {
          "base_uri": "https://localhost:8080/"
        },
        "id": "MobU1vf0KMvV",
        "outputId": "3233ad6e-ce5e-4f60-e3c1-af44982b76c7"
      },
      "execution_count": null,
      "outputs": [
        {
          "output_type": "execute_result",
          "data": {
            "text/plain": [
              "17    163\n",
              "1     134\n",
              "26    124\n",
              "11    123\n",
              "25    122\n",
              "18    122\n",
              "2     122\n",
              "12    117\n",
              "22    115\n",
              "7     113\n",
              "27    111\n",
              "10    107\n",
              "3     107\n",
              "4     106\n",
              "15    106\n",
              "19    105\n",
              "21    104\n",
              "5     103\n",
              "23    103\n",
              "0     102\n",
              "13    102\n",
              "14    101\n",
              "24    101\n",
              "6     101\n",
              "29    100\n",
              "30    100\n",
              "31    100\n",
              "16     99\n",
              "8      99\n",
              "28     97\n",
              "32     96\n",
              "20     80\n",
              "9      42\n",
              "Name: author_id, dtype: int64"
            ]
          },
          "metadata": {},
          "execution_count": 8
        }
      ]
    },
    {
      "cell_type": "markdown",
      "source": [
        "### pymorphy2"
      ],
      "metadata": {
        "id": "NzI3yLHmJ0Yf"
      }
    },
    {
      "cell_type": "markdown",
      "source": [
        "Подсчитаем количество существительных, глаголов, прилагательных, наречий"
      ],
      "metadata": {
        "id": "R3OxnAoNg7v8"
      }
    },
    {
      "cell_type": "code",
      "source": [
        "morph = pymorphy2.MorphAnalyzer()\n",
        "\n",
        "# Функция для подсчета слов по частям речи\n",
        "def count_pos_words(text):\n",
        "    nouns = 0\n",
        "    adjectives = 0\n",
        "    verbs = 0\n",
        "    adverbs = 0\n",
        "    words = text.split()\n",
        "\n",
        "    for word in words:\n",
        "        # Приведем слово к нормальной форме\n",
        "        normal_form = morph.parse(word)[0].normal_form\n",
        "        pos = morph.parse(normal_form)[0].tag.POS\n",
        "        if pos == 'NOUN':\n",
        "            nouns += 1\n",
        "        elif pos == 'ADJF' or pos == 'ADJS':\n",
        "            adjectives += 1\n",
        "        elif pos == 'VERB':\n",
        "            verbs += 1\n",
        "        elif pos == 'ADVB':\n",
        "            adverbs += 1\n",
        "\n",
        "    return nouns, adjectives, verbs, adverbs\n",
        "\n",
        "df[['nouns', 'adjectives', 'verbs', 'adverbs']] = df['text'].apply(count_pos_words).apply(pd.Series)\n",
        "df.head()"
      ],
      "metadata": {
        "id": "XnaADOyFfzFN",
        "colab": {
          "base_uri": "https://localhost:8080/",
          "height": 790
        },
        "outputId": "840b9b40-4f2b-4405-bbb5-803d1c1cbc59"
      },
      "execution_count": null,
      "outputs": [
        {
          "output_type": "execute_result",
          "data": {
            "text/plain": [
              "   author_id       author             title  \\\n",
              "0          0  Иван Крылов  Свинья под дубом   \n",
              "1          0  Иван Крылов   Мартышка и очки   \n",
              "2          0  Иван Крылов   Волк и Волчонок   \n",
              "3          0  Иван Крылов    Волк и журавль   \n",
              "4          0  Иван Крылов         Музыканты   \n",
              "\n",
              "                                                text  number_in_characters  \\\n",
              "0  свинья дубом вековым наелась желудей досыта от...                   458   \n",
              "1  мартышка старости слаба глазами стала людей сл...                   451   \n",
              "2  волчонка волк начав помалу приучать отцовским ...                   736   \n",
              "3  волки жадны всякий знает волк евши костей разб...                   470   \n",
              "4  сосед соседа звал откушать умысел хозяин музык...                   345   \n",
              "\n",
              "   length_in_words  number_of_unique_words  average_word_length  nouns  \\\n",
              "0               67                      62             5.835821     27   \n",
              "1               66                      60             5.833333     32   \n",
              "2              106                      94             5.952830     38   \n",
              "3               69                      62             5.826087     25   \n",
              "4               48                      46             6.187500     21   \n",
              "\n",
              "   adjectives  verbs  adverbs  \n",
              "0           3      0        4  \n",
              "1           5      0        1  \n",
              "2          21      0        7  \n",
              "3          11      0        3  \n",
              "4           4      0        1  "
            ],
            "text/html": [
              "\n",
              "  <div id=\"df-47acc687-3524-4297-bed5-9d44c8cbc4b6\">\n",
              "    <div class=\"colab-df-container\">\n",
              "      <div>\n",
              "<style scoped>\n",
              "    .dataframe tbody tr th:only-of-type {\n",
              "        vertical-align: middle;\n",
              "    }\n",
              "\n",
              "    .dataframe tbody tr th {\n",
              "        vertical-align: top;\n",
              "    }\n",
              "\n",
              "    .dataframe thead th {\n",
              "        text-align: right;\n",
              "    }\n",
              "</style>\n",
              "<table border=\"1\" class=\"dataframe\">\n",
              "  <thead>\n",
              "    <tr style=\"text-align: right;\">\n",
              "      <th></th>\n",
              "      <th>author_id</th>\n",
              "      <th>author</th>\n",
              "      <th>title</th>\n",
              "      <th>text</th>\n",
              "      <th>number_in_characters</th>\n",
              "      <th>length_in_words</th>\n",
              "      <th>number_of_unique_words</th>\n",
              "      <th>average_word_length</th>\n",
              "      <th>nouns</th>\n",
              "      <th>adjectives</th>\n",
              "      <th>verbs</th>\n",
              "      <th>adverbs</th>\n",
              "    </tr>\n",
              "  </thead>\n",
              "  <tbody>\n",
              "    <tr>\n",
              "      <th>0</th>\n",
              "      <td>0</td>\n",
              "      <td>Иван Крылов</td>\n",
              "      <td>Свинья под дубом</td>\n",
              "      <td>свинья дубом вековым наелась желудей досыта от...</td>\n",
              "      <td>458</td>\n",
              "      <td>67</td>\n",
              "      <td>62</td>\n",
              "      <td>5.835821</td>\n",
              "      <td>27</td>\n",
              "      <td>3</td>\n",
              "      <td>0</td>\n",
              "      <td>4</td>\n",
              "    </tr>\n",
              "    <tr>\n",
              "      <th>1</th>\n",
              "      <td>0</td>\n",
              "      <td>Иван Крылов</td>\n",
              "      <td>Мартышка и очки</td>\n",
              "      <td>мартышка старости слаба глазами стала людей сл...</td>\n",
              "      <td>451</td>\n",
              "      <td>66</td>\n",
              "      <td>60</td>\n",
              "      <td>5.833333</td>\n",
              "      <td>32</td>\n",
              "      <td>5</td>\n",
              "      <td>0</td>\n",
              "      <td>1</td>\n",
              "    </tr>\n",
              "    <tr>\n",
              "      <th>2</th>\n",
              "      <td>0</td>\n",
              "      <td>Иван Крылов</td>\n",
              "      <td>Волк и Волчонок</td>\n",
              "      <td>волчонка волк начав помалу приучать отцовским ...</td>\n",
              "      <td>736</td>\n",
              "      <td>106</td>\n",
              "      <td>94</td>\n",
              "      <td>5.952830</td>\n",
              "      <td>38</td>\n",
              "      <td>21</td>\n",
              "      <td>0</td>\n",
              "      <td>7</td>\n",
              "    </tr>\n",
              "    <tr>\n",
              "      <th>3</th>\n",
              "      <td>0</td>\n",
              "      <td>Иван Крылов</td>\n",
              "      <td>Волк и журавль</td>\n",
              "      <td>волки жадны всякий знает волк евши костей разб...</td>\n",
              "      <td>470</td>\n",
              "      <td>69</td>\n",
              "      <td>62</td>\n",
              "      <td>5.826087</td>\n",
              "      <td>25</td>\n",
              "      <td>11</td>\n",
              "      <td>0</td>\n",
              "      <td>3</td>\n",
              "    </tr>\n",
              "    <tr>\n",
              "      <th>4</th>\n",
              "      <td>0</td>\n",
              "      <td>Иван Крылов</td>\n",
              "      <td>Музыканты</td>\n",
              "      <td>сосед соседа звал откушать умысел хозяин музык...</td>\n",
              "      <td>345</td>\n",
              "      <td>48</td>\n",
              "      <td>46</td>\n",
              "      <td>6.187500</td>\n",
              "      <td>21</td>\n",
              "      <td>4</td>\n",
              "      <td>0</td>\n",
              "      <td>1</td>\n",
              "    </tr>\n",
              "  </tbody>\n",
              "</table>\n",
              "</div>\n",
              "      <button class=\"colab-df-convert\" onclick=\"convertToInteractive('df-47acc687-3524-4297-bed5-9d44c8cbc4b6')\"\n",
              "              title=\"Convert this dataframe to an interactive table.\"\n",
              "              style=\"display:none;\">\n",
              "        \n",
              "  <svg xmlns=\"http://www.w3.org/2000/svg\" height=\"24px\"viewBox=\"0 0 24 24\"\n",
              "       width=\"24px\">\n",
              "    <path d=\"M0 0h24v24H0V0z\" fill=\"none\"/>\n",
              "    <path d=\"M18.56 5.44l.94 2.06.94-2.06 2.06-.94-2.06-.94-.94-2.06-.94 2.06-2.06.94zm-11 1L8.5 8.5l.94-2.06 2.06-.94-2.06-.94L8.5 2.5l-.94 2.06-2.06.94zm10 10l.94 2.06.94-2.06 2.06-.94-2.06-.94-.94-2.06-.94 2.06-2.06.94z\"/><path d=\"M17.41 7.96l-1.37-1.37c-.4-.4-.92-.59-1.43-.59-.52 0-1.04.2-1.43.59L10.3 9.45l-7.72 7.72c-.78.78-.78 2.05 0 2.83L4 21.41c.39.39.9.59 1.41.59.51 0 1.02-.2 1.41-.59l7.78-7.78 2.81-2.81c.8-.78.8-2.07 0-2.86zM5.41 20L4 18.59l7.72-7.72 1.47 1.35L5.41 20z\"/>\n",
              "  </svg>\n",
              "      </button>\n",
              "      \n",
              "  <style>\n",
              "    .colab-df-container {\n",
              "      display:flex;\n",
              "      flex-wrap:wrap;\n",
              "      gap: 12px;\n",
              "    }\n",
              "\n",
              "    .colab-df-convert {\n",
              "      background-color: #E8F0FE;\n",
              "      border: none;\n",
              "      border-radius: 50%;\n",
              "      cursor: pointer;\n",
              "      display: none;\n",
              "      fill: #1967D2;\n",
              "      height: 32px;\n",
              "      padding: 0 0 0 0;\n",
              "      width: 32px;\n",
              "    }\n",
              "\n",
              "    .colab-df-convert:hover {\n",
              "      background-color: #E2EBFA;\n",
              "      box-shadow: 0px 1px 2px rgba(60, 64, 67, 0.3), 0px 1px 3px 1px rgba(60, 64, 67, 0.15);\n",
              "      fill: #174EA6;\n",
              "    }\n",
              "\n",
              "    [theme=dark] .colab-df-convert {\n",
              "      background-color: #3B4455;\n",
              "      fill: #D2E3FC;\n",
              "    }\n",
              "\n",
              "    [theme=dark] .colab-df-convert:hover {\n",
              "      background-color: #434B5C;\n",
              "      box-shadow: 0px 1px 3px 1px rgba(0, 0, 0, 0.15);\n",
              "      filter: drop-shadow(0px 1px 2px rgba(0, 0, 0, 0.3));\n",
              "      fill: #FFFFFF;\n",
              "    }\n",
              "  </style>\n",
              "\n",
              "      <script>\n",
              "        const buttonEl =\n",
              "          document.querySelector('#df-47acc687-3524-4297-bed5-9d44c8cbc4b6 button.colab-df-convert');\n",
              "        buttonEl.style.display =\n",
              "          google.colab.kernel.accessAllowed ? 'block' : 'none';\n",
              "\n",
              "        async function convertToInteractive(key) {\n",
              "          const element = document.querySelector('#df-47acc687-3524-4297-bed5-9d44c8cbc4b6');\n",
              "          const dataTable =\n",
              "            await google.colab.kernel.invokeFunction('convertToInteractive',\n",
              "                                                     [key], {});\n",
              "          if (!dataTable) return;\n",
              "\n",
              "          const docLinkHtml = 'Like what you see? Visit the ' +\n",
              "            '<a target=\"_blank\" href=https://colab.research.google.com/notebooks/data_table.ipynb>data table notebook</a>'\n",
              "            + ' to learn more about interactive tables.';\n",
              "          element.innerHTML = '';\n",
              "          dataTable['output_type'] = 'display_data';\n",
              "          await google.colab.output.renderOutput(dataTable, element);\n",
              "          const docLink = document.createElement('div');\n",
              "          docLink.innerHTML = docLinkHtml;\n",
              "          element.appendChild(docLink);\n",
              "        }\n",
              "      </script>\n",
              "    </div>\n",
              "  </div>\n",
              "  "
            ]
          },
          "metadata": {},
          "execution_count": 9
        }
      ]
    },
    {
      "cell_type": "code",
      "source": [
        "df.to_csv(\"table_poems03.csv\", index=False)\n",
        "files.download(\"table_poems03.csv\")"
      ],
      "metadata": {
        "colab": {
          "base_uri": "https://localhost:8080/",
          "height": 17
        },
        "id": "THtM5iHwKid3",
        "outputId": "01f64a15-78aa-4b96-fee2-6229d29d282d"
      },
      "execution_count": null,
      "outputs": [
        {
          "output_type": "display_data",
          "data": {
            "text/plain": [
              "<IPython.core.display.Javascript object>"
            ],
            "application/javascript": [
              "\n",
              "    async function download(id, filename, size) {\n",
              "      if (!google.colab.kernel.accessAllowed) {\n",
              "        return;\n",
              "      }\n",
              "      const div = document.createElement('div');\n",
              "      const label = document.createElement('label');\n",
              "      label.textContent = `Downloading \"${filename}\": `;\n",
              "      div.appendChild(label);\n",
              "      const progress = document.createElement('progress');\n",
              "      progress.max = size;\n",
              "      div.appendChild(progress);\n",
              "      document.body.appendChild(div);\n",
              "\n",
              "      const buffers = [];\n",
              "      let downloaded = 0;\n",
              "\n",
              "      const channel = await google.colab.kernel.comms.open(id);\n",
              "      // Send a message to notify the kernel that we're ready.\n",
              "      channel.send({})\n",
              "\n",
              "      for await (const message of channel.messages) {\n",
              "        // Send a message to notify the kernel that we're ready.\n",
              "        channel.send({})\n",
              "        if (message.buffers) {\n",
              "          for (const buffer of message.buffers) {\n",
              "            buffers.push(buffer);\n",
              "            downloaded += buffer.byteLength;\n",
              "            progress.value = downloaded;\n",
              "          }\n",
              "        }\n",
              "      }\n",
              "      const blob = new Blob(buffers, {type: 'application/binary'});\n",
              "      const a = document.createElement('a');\n",
              "      a.href = window.URL.createObjectURL(blob);\n",
              "      a.download = filename;\n",
              "      div.appendChild(a);\n",
              "      a.click();\n",
              "      div.remove();\n",
              "    }\n",
              "  "
            ]
          },
          "metadata": {}
        },
        {
          "output_type": "display_data",
          "data": {
            "text/plain": [
              "<IPython.core.display.Javascript object>"
            ],
            "application/javascript": [
              "download(\"download_31aca6a4-215f-4939-99f8-d18245d738b5\", \"table_poems03.csv\", 5416521)"
            ]
          },
          "metadata": {}
        }
      ]
    },
    {
      "cell_type": "markdown",
      "source": [
        "## TF-IDF"
      ],
      "metadata": {
        "id": "znpsZwPDyJc6"
      }
    },
    {
      "cell_type": "code",
      "source": [
        "texts = df['text'].tolist()\n",
        "labels = df['author_id'].tolist()"
      ],
      "metadata": {
        "id": "PhUdrPu8iJmC"
      },
      "execution_count": null,
      "outputs": []
    },
    {
      "cell_type": "markdown",
      "source": [
        "Разделим так, чтобы авторы из test были в train"
      ],
      "metadata": {
        "id": "Qe-9ttsnA9Du"
      }
    },
    {
      "cell_type": "code",
      "source": [
        "texts_train, texts_test, labels_train, labels_test = train_test_split(texts, labels, test_size=0.2, random_state=42, stratify=labels)"
      ],
      "metadata": {
        "id": "DNz7Ntm6iMYD"
      },
      "execution_count": null,
      "outputs": []
    },
    {
      "cell_type": "markdown",
      "source": [
        "Преобразуем тексты стихотворений в векторные представления"
      ],
      "metadata": {
        "id": "SKGcosemjH8z"
      }
    },
    {
      "cell_type": "code",
      "source": [
        "vectorizer = TfidfVectorizer()\n",
        "X_train = vectorizer.fit_transform(texts_train)\n",
        "X_test = vectorizer.transform(texts_test)"
      ],
      "metadata": {
        "id": "J4TgcqRWiQr5"
      },
      "execution_count": null,
      "outputs": []
    },
    {
      "cell_type": "markdown",
      "source": [
        "Используем SVC"
      ],
      "metadata": {
        "id": "26gKdVmwjXHx"
      }
    },
    {
      "cell_type": "code",
      "source": [
        "classifier = SVC()"
      ],
      "metadata": {
        "id": "nzwJxZGOiUhA"
      },
      "execution_count": null,
      "outputs": []
    },
    {
      "cell_type": "code",
      "source": [
        "classifier.fit(X_train, labels_train)"
      ],
      "metadata": {
        "id": "BgobFh_3iVpx",
        "colab": {
          "base_uri": "https://localhost:8080/",
          "height": 74
        },
        "outputId": "b95e6877-00ae-4a68-b770-7d5c8f78693d"
      },
      "execution_count": null,
      "outputs": [
        {
          "output_type": "execute_result",
          "data": {
            "text/plain": [
              "SVC()"
            ],
            "text/html": [
              "<style>#sk-container-id-1 {color: black;background-color: white;}#sk-container-id-1 pre{padding: 0;}#sk-container-id-1 div.sk-toggleable {background-color: white;}#sk-container-id-1 label.sk-toggleable__label {cursor: pointer;display: block;width: 100%;margin-bottom: 0;padding: 0.3em;box-sizing: border-box;text-align: center;}#sk-container-id-1 label.sk-toggleable__label-arrow:before {content: \"▸\";float: left;margin-right: 0.25em;color: #696969;}#sk-container-id-1 label.sk-toggleable__label-arrow:hover:before {color: black;}#sk-container-id-1 div.sk-estimator:hover label.sk-toggleable__label-arrow:before {color: black;}#sk-container-id-1 div.sk-toggleable__content {max-height: 0;max-width: 0;overflow: hidden;text-align: left;background-color: #f0f8ff;}#sk-container-id-1 div.sk-toggleable__content pre {margin: 0.2em;color: black;border-radius: 0.25em;background-color: #f0f8ff;}#sk-container-id-1 input.sk-toggleable__control:checked~div.sk-toggleable__content {max-height: 200px;max-width: 100%;overflow: auto;}#sk-container-id-1 input.sk-toggleable__control:checked~label.sk-toggleable__label-arrow:before {content: \"▾\";}#sk-container-id-1 div.sk-estimator input.sk-toggleable__control:checked~label.sk-toggleable__label {background-color: #d4ebff;}#sk-container-id-1 div.sk-label input.sk-toggleable__control:checked~label.sk-toggleable__label {background-color: #d4ebff;}#sk-container-id-1 input.sk-hidden--visually {border: 0;clip: rect(1px 1px 1px 1px);clip: rect(1px, 1px, 1px, 1px);height: 1px;margin: -1px;overflow: hidden;padding: 0;position: absolute;width: 1px;}#sk-container-id-1 div.sk-estimator {font-family: monospace;background-color: #f0f8ff;border: 1px dotted black;border-radius: 0.25em;box-sizing: border-box;margin-bottom: 0.5em;}#sk-container-id-1 div.sk-estimator:hover {background-color: #d4ebff;}#sk-container-id-1 div.sk-parallel-item::after {content: \"\";width: 100%;border-bottom: 1px solid gray;flex-grow: 1;}#sk-container-id-1 div.sk-label:hover label.sk-toggleable__label {background-color: #d4ebff;}#sk-container-id-1 div.sk-serial::before {content: \"\";position: absolute;border-left: 1px solid gray;box-sizing: border-box;top: 0;bottom: 0;left: 50%;z-index: 0;}#sk-container-id-1 div.sk-serial {display: flex;flex-direction: column;align-items: center;background-color: white;padding-right: 0.2em;padding-left: 0.2em;position: relative;}#sk-container-id-1 div.sk-item {position: relative;z-index: 1;}#sk-container-id-1 div.sk-parallel {display: flex;align-items: stretch;justify-content: center;background-color: white;position: relative;}#sk-container-id-1 div.sk-item::before, #sk-container-id-1 div.sk-parallel-item::before {content: \"\";position: absolute;border-left: 1px solid gray;box-sizing: border-box;top: 0;bottom: 0;left: 50%;z-index: -1;}#sk-container-id-1 div.sk-parallel-item {display: flex;flex-direction: column;z-index: 1;position: relative;background-color: white;}#sk-container-id-1 div.sk-parallel-item:first-child::after {align-self: flex-end;width: 50%;}#sk-container-id-1 div.sk-parallel-item:last-child::after {align-self: flex-start;width: 50%;}#sk-container-id-1 div.sk-parallel-item:only-child::after {width: 0;}#sk-container-id-1 div.sk-dashed-wrapped {border: 1px dashed gray;margin: 0 0.4em 0.5em 0.4em;box-sizing: border-box;padding-bottom: 0.4em;background-color: white;}#sk-container-id-1 div.sk-label label {font-family: monospace;font-weight: bold;display: inline-block;line-height: 1.2em;}#sk-container-id-1 div.sk-label-container {text-align: center;}#sk-container-id-1 div.sk-container {/* jupyter's `normalize.less` sets `[hidden] { display: none; }` but bootstrap.min.css set `[hidden] { display: none !important; }` so we also need the `!important` here to be able to override the default hidden behavior on the sphinx rendered scikit-learn.org. See: https://github.com/scikit-learn/scikit-learn/issues/21755 */display: inline-block !important;position: relative;}#sk-container-id-1 div.sk-text-repr-fallback {display: none;}</style><div id=\"sk-container-id-1\" class=\"sk-top-container\"><div class=\"sk-text-repr-fallback\"><pre>SVC()</pre><b>In a Jupyter environment, please rerun this cell to show the HTML representation or trust the notebook. <br />On GitHub, the HTML representation is unable to render, please try loading this page with nbviewer.org.</b></div><div class=\"sk-container\" hidden><div class=\"sk-item\"><div class=\"sk-estimator sk-toggleable\"><input class=\"sk-toggleable__control sk-hidden--visually\" id=\"sk-estimator-id-1\" type=\"checkbox\" checked><label for=\"sk-estimator-id-1\" class=\"sk-toggleable__label sk-toggleable__label-arrow\">SVC</label><div class=\"sk-toggleable__content\"><pre>SVC()</pre></div></div></div></div></div>"
            ]
          },
          "metadata": {},
          "execution_count": 15
        }
      ]
    },
    {
      "cell_type": "code",
      "source": [
        "accuracy = classifier.score(X_test, labels_test)\n",
        "print(accuracy)"
      ],
      "metadata": {
        "id": "_kQafTRgiYC5",
        "colab": {
          "base_uri": "https://localhost:8080/"
        },
        "outputId": "b975ecdf-07ad-41a0-dff5-a13567a7ed29"
      },
      "execution_count": null,
      "outputs": [
        {
          "output_type": "stream",
          "name": "stdout",
          "text": [
            "0.06940509915014165\n"
          ]
        }
      ]
    },
    {
      "cell_type": "markdown",
      "source": [
        "### Word2Vec"
      ],
      "metadata": {
        "id": "rpF_VWrbpyYV"
      }
    },
    {
      "cell_type": "code",
      "source": [
        "df = pd.read_csv('/content/table_poems03.csv', delimiter=',', quotechar='\"', escapechar='\\\\')"
      ],
      "metadata": {
        "id": "hSmQk7cB8gVF"
      },
      "execution_count": null,
      "outputs": []
    },
    {
      "cell_type": "markdown",
      "source": [
        "Получим векторное представление стихотворений"
      ],
      "metadata": {
        "id": "V6IPfAHPV9MS"
      }
    },
    {
      "cell_type": "code",
      "source": [
        "model = Word2Vec(sentences=df['text'], vector_size=100, window=5, min_count=1, workers=4)\n",
        "\n",
        "def get_poem_vector(poem):\n",
        "    poem_vector = [model.wv[word] for word in poem if word in model.wv]\n",
        "    if poem_vector:\n",
        "        return np.mean(poem_vector, axis=0)\n",
        "    else:\n",
        "        return np.zeros(model.vector_size)\n",
        "\n",
        "df['text_vector'] = df['text'].apply(get_poem_vector)"
      ],
      "metadata": {
        "colab": {
          "base_uri": "https://localhost:8080/"
        },
        "id": "7bvV3fD389EH",
        "outputId": "98a2435e-9501-497c-c988-c8632d403d0a"
      },
      "execution_count": null,
      "outputs": [
        {
          "output_type": "stream",
          "name": "stderr",
          "text": [
            "WARNING:gensim.models.word2vec:Each 'sentences' item should be a list of words (usually unicode strings). First item here is instead plain <class 'str'>.\n"
          ]
        }
      ]
    },
    {
      "cell_type": "code",
      "source": [
        "df.head()"
      ],
      "metadata": {
        "id": "uH18h9eB5x8a",
        "colab": {
          "base_uri": "https://localhost:8080/",
          "height": 790
        },
        "outputId": "b5f06e01-753d-4c08-ddfe-54fb1eb2e78b"
      },
      "execution_count": null,
      "outputs": [
        {
          "output_type": "execute_result",
          "data": {
            "text/plain": [
              "   author_id       author             title  \\\n",
              "0          0  Иван Крылов  Свинья под дубом   \n",
              "1          0  Иван Крылов   Мартышка и очки   \n",
              "2          0  Иван Крылов   Волк и Волчонок   \n",
              "3          0  Иван Крылов    Волк и журавль   \n",
              "4          0  Иван Крылов         Музыканты   \n",
              "\n",
              "                                                text  number_in_characters  \\\n",
              "0  свинья дубом вековым наелась желудей досыта от...                   458   \n",
              "1  мартышка старости слаба глазами стала людей сл...                   451   \n",
              "2  волчонка волк начав помалу приучать отцовским ...                   736   \n",
              "3  волки жадны всякий знает волк евши костей разб...                   470   \n",
              "4  сосед соседа звал откушать умысел хозяин музык...                   345   \n",
              "\n",
              "   length_in_words  number_of_unique_words  average_word_length  nouns  \\\n",
              "0               67                      62             5.835821     27   \n",
              "1               66                      60             5.833333     32   \n",
              "2              106                      94             5.952830     38   \n",
              "3               69                      62             5.826087     25   \n",
              "4               48                      46             6.187500     21   \n",
              "\n",
              "   adjectives  verbs  adverbs  \\\n",
              "0           3      0        4   \n",
              "1           5      0        1   \n",
              "2          21      0        7   \n",
              "3          11      0        3   \n",
              "4           4      0        1   \n",
              "\n",
              "                                         text_vector  \n",
              "0  [-0.08416013, 0.099379614, -0.012152412, -0.17...  \n",
              "1  [-0.07851018, 0.082571484, -0.0098892115, -0.1...  \n",
              "2  [-0.069486335, 0.07655293, 0.0071866694, -0.18...  \n",
              "3  [-0.08798582, 0.08536402, 0.006266758, -0.1633...  \n",
              "4  [-0.06377496, 0.09431085, 0.0025009643, -0.172...  "
            ],
            "text/html": [
              "\n",
              "  <div id=\"df-09e89202-b153-4c78-aaaa-3f92fce863d3\">\n",
              "    <div class=\"colab-df-container\">\n",
              "      <div>\n",
              "<style scoped>\n",
              "    .dataframe tbody tr th:only-of-type {\n",
              "        vertical-align: middle;\n",
              "    }\n",
              "\n",
              "    .dataframe tbody tr th {\n",
              "        vertical-align: top;\n",
              "    }\n",
              "\n",
              "    .dataframe thead th {\n",
              "        text-align: right;\n",
              "    }\n",
              "</style>\n",
              "<table border=\"1\" class=\"dataframe\">\n",
              "  <thead>\n",
              "    <tr style=\"text-align: right;\">\n",
              "      <th></th>\n",
              "      <th>author_id</th>\n",
              "      <th>author</th>\n",
              "      <th>title</th>\n",
              "      <th>text</th>\n",
              "      <th>number_in_characters</th>\n",
              "      <th>length_in_words</th>\n",
              "      <th>number_of_unique_words</th>\n",
              "      <th>average_word_length</th>\n",
              "      <th>nouns</th>\n",
              "      <th>adjectives</th>\n",
              "      <th>verbs</th>\n",
              "      <th>adverbs</th>\n",
              "      <th>text_vector</th>\n",
              "    </tr>\n",
              "  </thead>\n",
              "  <tbody>\n",
              "    <tr>\n",
              "      <th>0</th>\n",
              "      <td>0</td>\n",
              "      <td>Иван Крылов</td>\n",
              "      <td>Свинья под дубом</td>\n",
              "      <td>свинья дубом вековым наелась желудей досыта от...</td>\n",
              "      <td>458</td>\n",
              "      <td>67</td>\n",
              "      <td>62</td>\n",
              "      <td>5.835821</td>\n",
              "      <td>27</td>\n",
              "      <td>3</td>\n",
              "      <td>0</td>\n",
              "      <td>4</td>\n",
              "      <td>[-0.08416013, 0.099379614, -0.012152412, -0.17...</td>\n",
              "    </tr>\n",
              "    <tr>\n",
              "      <th>1</th>\n",
              "      <td>0</td>\n",
              "      <td>Иван Крылов</td>\n",
              "      <td>Мартышка и очки</td>\n",
              "      <td>мартышка старости слаба глазами стала людей сл...</td>\n",
              "      <td>451</td>\n",
              "      <td>66</td>\n",
              "      <td>60</td>\n",
              "      <td>5.833333</td>\n",
              "      <td>32</td>\n",
              "      <td>5</td>\n",
              "      <td>0</td>\n",
              "      <td>1</td>\n",
              "      <td>[-0.07851018, 0.082571484, -0.0098892115, -0.1...</td>\n",
              "    </tr>\n",
              "    <tr>\n",
              "      <th>2</th>\n",
              "      <td>0</td>\n",
              "      <td>Иван Крылов</td>\n",
              "      <td>Волк и Волчонок</td>\n",
              "      <td>волчонка волк начав помалу приучать отцовским ...</td>\n",
              "      <td>736</td>\n",
              "      <td>106</td>\n",
              "      <td>94</td>\n",
              "      <td>5.952830</td>\n",
              "      <td>38</td>\n",
              "      <td>21</td>\n",
              "      <td>0</td>\n",
              "      <td>7</td>\n",
              "      <td>[-0.069486335, 0.07655293, 0.0071866694, -0.18...</td>\n",
              "    </tr>\n",
              "    <tr>\n",
              "      <th>3</th>\n",
              "      <td>0</td>\n",
              "      <td>Иван Крылов</td>\n",
              "      <td>Волк и журавль</td>\n",
              "      <td>волки жадны всякий знает волк евши костей разб...</td>\n",
              "      <td>470</td>\n",
              "      <td>69</td>\n",
              "      <td>62</td>\n",
              "      <td>5.826087</td>\n",
              "      <td>25</td>\n",
              "      <td>11</td>\n",
              "      <td>0</td>\n",
              "      <td>3</td>\n",
              "      <td>[-0.08798582, 0.08536402, 0.006266758, -0.1633...</td>\n",
              "    </tr>\n",
              "    <tr>\n",
              "      <th>4</th>\n",
              "      <td>0</td>\n",
              "      <td>Иван Крылов</td>\n",
              "      <td>Музыканты</td>\n",
              "      <td>сосед соседа звал откушать умысел хозяин музык...</td>\n",
              "      <td>345</td>\n",
              "      <td>48</td>\n",
              "      <td>46</td>\n",
              "      <td>6.187500</td>\n",
              "      <td>21</td>\n",
              "      <td>4</td>\n",
              "      <td>0</td>\n",
              "      <td>1</td>\n",
              "      <td>[-0.06377496, 0.09431085, 0.0025009643, -0.172...</td>\n",
              "    </tr>\n",
              "  </tbody>\n",
              "</table>\n",
              "</div>\n",
              "      <button class=\"colab-df-convert\" onclick=\"convertToInteractive('df-09e89202-b153-4c78-aaaa-3f92fce863d3')\"\n",
              "              title=\"Convert this dataframe to an interactive table.\"\n",
              "              style=\"display:none;\">\n",
              "        \n",
              "  <svg xmlns=\"http://www.w3.org/2000/svg\" height=\"24px\"viewBox=\"0 0 24 24\"\n",
              "       width=\"24px\">\n",
              "    <path d=\"M0 0h24v24H0V0z\" fill=\"none\"/>\n",
              "    <path d=\"M18.56 5.44l.94 2.06.94-2.06 2.06-.94-2.06-.94-.94-2.06-.94 2.06-2.06.94zm-11 1L8.5 8.5l.94-2.06 2.06-.94-2.06-.94L8.5 2.5l-.94 2.06-2.06.94zm10 10l.94 2.06.94-2.06 2.06-.94-2.06-.94-.94-2.06-.94 2.06-2.06.94z\"/><path d=\"M17.41 7.96l-1.37-1.37c-.4-.4-.92-.59-1.43-.59-.52 0-1.04.2-1.43.59L10.3 9.45l-7.72 7.72c-.78.78-.78 2.05 0 2.83L4 21.41c.39.39.9.59 1.41.59.51 0 1.02-.2 1.41-.59l7.78-7.78 2.81-2.81c.8-.78.8-2.07 0-2.86zM5.41 20L4 18.59l7.72-7.72 1.47 1.35L5.41 20z\"/>\n",
              "  </svg>\n",
              "      </button>\n",
              "      \n",
              "  <style>\n",
              "    .colab-df-container {\n",
              "      display:flex;\n",
              "      flex-wrap:wrap;\n",
              "      gap: 12px;\n",
              "    }\n",
              "\n",
              "    .colab-df-convert {\n",
              "      background-color: #E8F0FE;\n",
              "      border: none;\n",
              "      border-radius: 50%;\n",
              "      cursor: pointer;\n",
              "      display: none;\n",
              "      fill: #1967D2;\n",
              "      height: 32px;\n",
              "      padding: 0 0 0 0;\n",
              "      width: 32px;\n",
              "    }\n",
              "\n",
              "    .colab-df-convert:hover {\n",
              "      background-color: #E2EBFA;\n",
              "      box-shadow: 0px 1px 2px rgba(60, 64, 67, 0.3), 0px 1px 3px 1px rgba(60, 64, 67, 0.15);\n",
              "      fill: #174EA6;\n",
              "    }\n",
              "\n",
              "    [theme=dark] .colab-df-convert {\n",
              "      background-color: #3B4455;\n",
              "      fill: #D2E3FC;\n",
              "    }\n",
              "\n",
              "    [theme=dark] .colab-df-convert:hover {\n",
              "      background-color: #434B5C;\n",
              "      box-shadow: 0px 1px 3px 1px rgba(0, 0, 0, 0.15);\n",
              "      filter: drop-shadow(0px 1px 2px rgba(0, 0, 0, 0.3));\n",
              "      fill: #FFFFFF;\n",
              "    }\n",
              "  </style>\n",
              "\n",
              "      <script>\n",
              "        const buttonEl =\n",
              "          document.querySelector('#df-09e89202-b153-4c78-aaaa-3f92fce863d3 button.colab-df-convert');\n",
              "        buttonEl.style.display =\n",
              "          google.colab.kernel.accessAllowed ? 'block' : 'none';\n",
              "\n",
              "        async function convertToInteractive(key) {\n",
              "          const element = document.querySelector('#df-09e89202-b153-4c78-aaaa-3f92fce863d3');\n",
              "          const dataTable =\n",
              "            await google.colab.kernel.invokeFunction('convertToInteractive',\n",
              "                                                     [key], {});\n",
              "          if (!dataTable) return;\n",
              "\n",
              "          const docLinkHtml = 'Like what you see? Visit the ' +\n",
              "            '<a target=\"_blank\" href=https://colab.research.google.com/notebooks/data_table.ipynb>data table notebook</a>'\n",
              "            + ' to learn more about interactive tables.';\n",
              "          element.innerHTML = '';\n",
              "          dataTable['output_type'] = 'display_data';\n",
              "          await google.colab.output.renderOutput(dataTable, element);\n",
              "          const docLink = document.createElement('div');\n",
              "          docLink.innerHTML = docLinkHtml;\n",
              "          element.appendChild(docLink);\n",
              "        }\n",
              "      </script>\n",
              "    </div>\n",
              "  </div>\n",
              "  "
            ]
          },
          "metadata": {},
          "execution_count": 19
        }
      ]
    },
    {
      "cell_type": "code",
      "source": [
        "data = df\n",
        "\n",
        "authors = data['author_id'].unique()\n",
        "\n",
        "def find_nearest_author(vector, data):\n",
        "    # Рассчитаем косинусное расстояние между вектором и каждым вектором из датафрейма\n",
        "    similarities = cosine_similarity(vector.reshape(1,-1), list(data['text_vector']))\n",
        "    # Выберем индекс стихотворения с наибольшим сходством\n",
        "    nearest_index = similarities.argmax()\n",
        "    return data.iloc[nearest_index]['author_id']\n",
        "\n",
        "data['predicted_author_id'] = data.apply(lambda row: find_nearest_author(row['text_vector'], data[data['author_id'] != row['author_id']]), axis=1)"
      ],
      "metadata": {
        "id": "hYYz_3noN7j7"
      },
      "execution_count": null,
      "outputs": []
    },
    {
      "cell_type": "code",
      "source": [
        "count = len(df[df['predicted_author_id'] == df['author_id']])\n",
        "\n",
        "print(f'Количество строк с совпадением: {count}')"
      ],
      "metadata": {
        "colab": {
          "base_uri": "https://localhost:8080/"
        },
        "id": "M-VNpZSSO2jg",
        "outputId": "8697e065-3eab-41e4-dad1-5999673c752c"
      },
      "execution_count": null,
      "outputs": [
        {
          "output_type": "stream",
          "name": "stdout",
          "text": [
            "Количество строк с совпадением: 0\n"
          ]
        }
      ]
    },
    {
      "cell_type": "markdown",
      "source": [
        "найс"
      ],
      "metadata": {
        "id": "12hAys2vWFEM"
      }
    },
    {
      "cell_type": "markdown",
      "source": [
        "### Logistic Regression"
      ],
      "metadata": {
        "id": "3x9-uZqmMKef"
      }
    },
    {
      "cell_type": "code",
      "source": [
        "X = np.vstack(df['text_vector'].to_numpy())\n",
        "y = df['author_id'].to_numpy()\n",
        "\n",
        "# Разделим так, чтобы авторы из test были в train\n",
        "X_train, X_test, y_train, y_test = train_test_split(X, y, test_size=0.2, random_state=42, stratify=y)"
      ],
      "metadata": {
        "id": "f6TImsc6Ml1p"
      },
      "execution_count": null,
      "outputs": []
    },
    {
      "cell_type": "code",
      "source": [
        "model_log = LogisticRegression()\n",
        "model_log.fit(X_train, y_train)\n",
        "\n",
        "y_pred = model_log.predict(X_test)"
      ],
      "metadata": {
        "id": "es5lU_PpGvIW"
      },
      "execution_count": null,
      "outputs": []
    },
    {
      "cell_type": "code",
      "source": [
        "accuracy = accuracy_score(y_test, y_pred)\n",
        "print(f\"Accuracy: {accuracy}\")"
      ],
      "metadata": {
        "colab": {
          "base_uri": "https://localhost:8080/"
        },
        "id": "kJjsPlKBMZd2",
        "outputId": "e84562e5-61a2-46be-9e25-7f9d3b5dbb49"
      },
      "execution_count": null,
      "outputs": [
        {
          "output_type": "stream",
          "name": "stdout",
          "text": [
            "Accuracy: 0.0821529745042493\n"
          ]
        }
      ]
    }
  ]
}